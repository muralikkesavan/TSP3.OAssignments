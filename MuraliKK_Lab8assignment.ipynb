{
 "cells": [
  {
   "cell_type": "markdown",
   "id": "603dfe2c",
   "metadata": {},
   "source": [
    "## EDUNET FOUNDATION - Self-Practice Exercise Notebook"
   ]
  },
  {
   "cell_type": "markdown",
   "id": "c3e375f7",
   "metadata": {},
   "source": [
    "### LAB 8 - Implementing Numpy Concepts in Python"
   ]
  },
  {
   "cell_type": "markdown",
   "id": "49e7b23c",
   "metadata": {},
   "source": [
    "Problem 1: Write a NumPy program to test whether none of the elements of a given array are zero."
   ]
  },
  {
   "cell_type": "code",
   "execution_count": 1,
   "id": "e99c48cb",
   "metadata": {},
   "outputs": [
    {
     "data": {
      "text/plain": [
       "True"
      ]
     },
     "execution_count": 1,
     "metadata": {},
     "output_type": "execute_result"
    }
   ],
   "source": [
    "import numpy as np\n",
    "x=np.array([78,11,24,54,22])\n",
    "np.all(x)"
   ]
  },
  {
   "cell_type": "markdown",
   "id": "3f406bde",
   "metadata": {},
   "source": [
    "Problem 2: Write a NumPy program to create an array of 10 zeros, 10 ones, and 10 fives. "
   ]
  },
  {
   "cell_type": "code",
   "execution_count": 2,
   "id": "dc28d213",
   "metadata": {},
   "outputs": [
    {
     "name": "stdout",
     "output_type": "stream",
     "text": [
      "Final Array [0. 0. 0. 0. 0. 0. 0. 0. 0. 0. 1. 1. 1. 1. 1. 1. 1. 1. 1. 1. 5. 5. 5. 5.\n",
      " 5. 5. 5. 5. 5. 5.]\n"
     ]
    }
   ],
   "source": [
    "import numpy as np\n",
    "\n",
    "zeros_arr=np.zeros(10)\n",
    "ones_arr=np.ones(10)\n",
    "fives_arr=np.full(10,5)\n",
    "\n",
    "Final_arr=np.concatenate((zeros_arr,ones_arr,fives_arr))\n",
    "\n",
    "print(\"Final Array\",Final_arr)"
   ]
  },
  {
   "cell_type": "markdown",
   "id": "60056cc8",
   "metadata": {},
   "source": [
    "Problem 3: Write a NumPy program to generate an array of 15 random numbers from a standard normal distribution."
   ]
  },
  {
   "cell_type": "code",
   "execution_count": 3,
   "id": "2874b8a4",
   "metadata": {},
   "outputs": [
    {
     "name": "stdout",
     "output_type": "stream",
     "text": [
      "[161.02119871 185.81871934 169.42772953 159.78664753 173.78569482\n",
      " 179.36540679 170.53858767 156.32585405 146.03110844 157.41416221\n",
      " 177.32825791 160.60004874 194.56530875 168.51780034 174.65819446]\n"
     ]
    }
   ],
   "source": [
    "import numpy as np\n",
    "from numpy import random\n",
    "x=np.random.normal(170,10,15)\n",
    "print(x)"
   ]
  },
  {
   "cell_type": "markdown",
   "id": "6031b4ab",
   "metadata": {},
   "source": [
    "Problem 4: Write a NumPy program to create a two-dimensional array with shape (8,5) of random numbers. Select random numbers from a normal distribution (200,7)."
   ]
  },
  {
   "cell_type": "code",
   "execution_count": 4,
   "id": "19065db9",
   "metadata": {},
   "outputs": [
    {
     "name": "stdout",
     "output_type": "stream",
     "text": [
      "[[204.97562986 204.50305857 198.41384628 200.66687524 196.88457485]\n",
      " [216.02484181 213.83360511 203.02675069 209.07321968 190.85812199]\n",
      " [200.92260426 195.83904557 207.82533457 196.72439373 189.61292567]\n",
      " [199.20564869 201.2896935  204.24720753 191.98196342 197.24705851]\n",
      " [198.5621326  207.09421714 202.67577698 193.72370694 206.04062062]\n",
      " [192.72827042 204.0157563  195.6323057  197.22750675 196.93959795]\n",
      " [199.20123759 206.63336941 195.35262646 198.6941755  197.43358565]\n",
      " [205.93968477 204.00495344 197.65106962 200.28506279 189.34990499]]\n"
     ]
    }
   ],
   "source": [
    "import numpy as np\n",
    "from numpy import random \n",
    "x=np.random.normal(200,7,(8,5))\n",
    "print(x)\n"
   ]
  },
  {
   "cell_type": "markdown",
   "id": "d3273c29",
   "metadata": {},
   "source": [
    "Problem 5: Write a NumPy program to create a 4x4 array. Create an array from said array by swapping first and last, second and third columns."
   ]
  },
  {
   "cell_type": "code",
   "execution_count": 5,
   "id": "7cfe495c",
   "metadata": {
    "scrolled": true
   },
   "outputs": [
    {
     "name": "stdout",
     "output_type": "stream",
     "text": [
      "Original X Array:\n",
      " [[10.50689986 11.1748022   9.68692944 10.43244261]\n",
      " [10.6452972  10.53881689 11.82607373 10.65218878]\n",
      " [ 9.80095242  9.06444013 11.83430827  8.9195905 ]\n",
      " [11.36500955  9.47592287  8.07366884 10.58105776]]\n",
      "\n",
      "Swapped X Array:\n",
      " [[10.43244261  9.68692944 11.1748022  10.50689986]\n",
      " [10.65218878 11.82607373 10.53881689 10.6452972 ]\n",
      " [ 8.9195905  11.83430827  9.06444013  9.80095242]\n",
      " [10.58105776  8.07366884  9.47592287 11.36500955]]\n"
     ]
    }
   ],
   "source": [
    "import numpy as np\n",
    "x=np.random.normal(10,1,(4,4))\n",
    "print('Original X Array:\\n',x)\n",
    "swappedx=x[:,[3,2,1,0]]\n",
    "print('\\nSwapped X Array:\\n',swappedx)"
   ]
  },
  {
   "cell_type": "markdown",
   "id": "a572703e",
   "metadata": {},
   "source": [
    "Problem 6: Write a NumPy program to swap rows and columns of a given array in reverse order."
   ]
  },
  {
   "cell_type": "code",
   "execution_count": 6,
   "id": "d6399e57",
   "metadata": {},
   "outputs": [
    {
     "name": "stdout",
     "output_type": "stream",
     "text": [
      "Original Array:\n",
      "[[ 1  2  3  4]\n",
      " [ 5  6  7  8]\n",
      " [ 9 10 11 12]\n",
      " [13 14 15 16]]\n",
      "\n",
      "Swapped Array:\n",
      "[[16 15 14 13]\n",
      " [12 11 10  9]\n",
      " [ 8  7  6  5]\n",
      " [ 4  3  2  1]]\n"
     ]
    }
   ],
   "source": [
    "import numpy as np\n",
    "original_array = np.array([\n",
    "    [1, 2, 3, 4],\n",
    "    [5, 6, 7, 8],\n",
    "    [9, 10, 11, 12],\n",
    "    [13, 14, 15, 16]\n",
    "])\n",
    "reversed_rows = original_array[::-1]\n",
    "reversed_columns = original_array[:, ::-1]\n",
    "swapped_array = reversed_rows[:, ::-1]\n",
    "print(\"Original Array:\")\n",
    "print(original_array)\n",
    "print(\"\\nSwapped Array:\")\n",
    "print(swapped_array)"
   ]
  },
  {
   "cell_type": "markdown",
   "id": "084cc294",
   "metadata": {},
   "source": [
    "Problem 7: Write a NumPy program to multiply two given arrays of the same size element-by-element."
   ]
  },
  {
   "cell_type": "code",
   "execution_count": 7,
   "id": "5192a4fb",
   "metadata": {},
   "outputs": [
    {
     "name": "stdout",
     "output_type": "stream",
     "text": [
      "[[ 5 12]\n",
      " [21 32]]\n"
     ]
    }
   ],
   "source": [
    "import numpy as np\n",
    "arr1 = np.array([[1, 2], [3, 4]])\n",
    "arr2 = np.array([[5, 6], [7, 8]])\n",
    "res = arr1 * arr2\n",
    "print(res)"
   ]
  },
  {
   "cell_type": "markdown",
   "id": "cece8212",
   "metadata": {},
   "source": [
    "Problem 8: Write a NumPy program to create a 3x3 matrix with values ranging from 2 to 10."
   ]
  },
  {
   "cell_type": "code",
   "execution_count": 8,
   "id": "c651fee4",
   "metadata": {},
   "outputs": [
    {
     "name": "stdout",
     "output_type": "stream",
     "text": [
      "[[ 2  3  4]\n",
      " [ 5  6  7]\n",
      " [ 8  9 10]]\n"
     ]
    }
   ],
   "source": [
    "import numpy as np\n",
    "values = np.arange(2, 11)\n",
    "mat = values.reshape(3, 3)\n",
    "print(mat)"
   ]
  },
  {
   "cell_type": "markdown",
   "id": "f6ed22c3",
   "metadata": {},
   "source": [
    "Problem 9: Write a NumPy program to create a 3x3x3 array with random values.\n",
    "Expected Output:\n",
    "\n",
    "[[[ 0.48941799 0.58722213 0.43453926]\n",
    "[ 0.94497547 0.81081709 0.1510409 ]\n",
    "[ 0.66657127 0.29494755 0.48047144]]\n",
    "[[ 0.02287253 0.95232614 0.32264936]\n",
    "[ 0.67009741 0.25458304 0.16290913]\n",
    "[ 0.15520198 0.86826529 0.9679322 ]]\n",
    "[[ 0.13503103 0.02042211 0.24683897]\n",
    "[ 0.97852158 0.22374748 0.10798856]\n",
    "[ 0.62032646 0.5893892 0.16958144]]]"
   ]
  },
  {
   "cell_type": "code",
   "execution_count": 9,
   "id": "c6d00ffa",
   "metadata": {},
   "outputs": [
    {
     "name": "stdout",
     "output_type": "stream",
     "text": [
      "[[[0.46451719 0.32549236 0.72711629]\n",
      "  [0.84280715 0.56365098 0.21758795]\n",
      "  [0.02977434 0.07360226 0.74027294]]\n",
      "\n",
      " [[0.87374325 0.775545   0.18105256]\n",
      "  [0.91513956 0.43196685 0.20492469]\n",
      "  [0.84303534 0.57733075 0.87803368]]\n",
      "\n",
      " [[0.46705344 0.0401205  0.80962077]\n",
      "  [0.24975703 0.47967495 0.10698115]\n",
      "  [0.3274454  0.65843657 0.5299691 ]]]\n"
     ]
    }
   ],
   "source": [
    "import numpy as np\n",
    "r = np.random.rand(3, 3, 3)\n",
    "print(r)"
   ]
  },
  {
   "cell_type": "markdown",
   "id": "3be0503b",
   "metadata": {},
   "source": [
    "Problem 10: Write a Python program to find the maximum and minimum value of a given flattened array."
   ]
  },
  {
   "cell_type": "code",
   "execution_count": 10,
   "id": "cca088a0",
   "metadata": {},
   "outputs": [
    {
     "name": "stdout",
     "output_type": "stream",
     "text": [
      "Maximum value: 9\n",
      "Minimum value: 1\n"
     ]
    }
   ],
   "source": [
    "import numpy as np\n",
    "array = np.array([[1, 2, 3],\n",
    "                  [4, 5, 6],\n",
    "                  [7, 8, 9]])\n",
    "flattened_array = array.flatten()\n",
    "maxvalue = np.amax(flattened_array)\n",
    "minvalue = np.amin(flattened_array)\n",
    "print(\"Maximum value:\", maxvalue)\n",
    "print(\"Minimum value:\", minvalue)"
   ]
  },
  {
   "cell_type": "markdown",
   "id": "13b994ea",
   "metadata": {},
   "source": [
    "Problem 11: Write a NumPy program to add, subtract, multiply, divide arguments element-wise.     \n",
    "Expected Output:\n",
    "Add:\n",
    "5.0\n",
    "Subtract:\n",
    "-3.0\n",
    "Multiply:\n",
    "4.0\n",
    "Divide:\n",
    "0.25"
   ]
  },
  {
   "cell_type": "code",
   "execution_count": 11,
   "id": "9c9e8d26",
   "metadata": {},
   "outputs": [
    {
     "name": "stdout",
     "output_type": "stream",
     "text": [
      "Add: 5.0\n",
      "Subtract: -3.0\n",
      "Multiply: 4.0\n",
      "Divide: 0.25\n"
     ]
    }
   ],
   "source": [
    "n1=np.array([1])\n",
    "n2=np.array([4])\n",
    "print(\"Add:\",float(n1+n2))\n",
    "print(\"Subtract:\",float(n1-n2))\n",
    "print(\"Multiply:\",float(n1*n2))\n",
    "print(\"Divide:\",float(n1/n2))"
   ]
  },
  {
   "cell_type": "markdown",
   "id": "7c146966",
   "metadata": {},
   "source": [
    "Problem 12: Write a NumPy program to get the powers of an array values element-wise.\n",
    "Note: First array elements raised to powers from second array\n",
    "Expected Output:\n",
    "Original array\n",
    "[0 1 2 3 4 5 6]\n",
    "First array elements raised to powers from second array, element-wise:\n",
    "[ 0 1 8 27 64 125 216]"
   ]
  },
  {
   "cell_type": "code",
   "execution_count": 12,
   "id": "d941af99",
   "metadata": {},
   "outputs": [
    {
     "name": "stdout",
     "output_type": "stream",
     "text": [
      "[  0   1   8  27  64 125 216]\n"
     ]
    }
   ],
   "source": [
    "n1=np.array([0,1,2,3,4,5,6])\n",
    "n2=np.array([3])\n",
    "print(n1**n2)"
   ]
  },
  {
   "cell_type": "markdown",
   "id": "2c681bc5",
   "metadata": {},
   "source": [
    "Problem 13: Create a Python project to guess a number that has randomly selected."
   ]
  },
  {
   "cell_type": "code",
   "execution_count": 13,
   "id": "8ed2b940",
   "metadata": {},
   "outputs": [
    {
     "name": "stdout",
     "output_type": "stream",
     "text": [
      "Enter a random Number from 1 to 10:1\n",
      "you Guessed the wrong number. The random number is:3\n"
     ]
    }
   ],
   "source": [
    "n=np.random.randint(1,11)\n",
    "s=int(input(\"Enter a random Number from 1 to 10:\"))\n",
    "if n==s:\n",
    "      print(\"You Gussed the Correct Number\")\n",
    "else:\n",
    "      print(\"you Guessed the wrong number. The random number is:\"+str(n))"
   ]
  },
  {
   "cell_type": "markdown",
   "id": "ac4db926",
   "metadata": {},
   "source": [
    "Problem 14: Write a NumPy program to create a 2D array with 1 on the border and 0 inside.        \n",
    "Expected Output:\n",
    "Original array:\n",
    "[[ 1. 1. 1. 1. 1.]\n",
    "...................\n",
    "[ 1. 1. 1. 1. 1.]]\n",
    "1 on the border and 0 inside in the array\n",
    "[[ 1. 1. 1. 1. 1.]\n",
    "...................\n",
    "[ 1. 1. 1. 1. 1.]]"
   ]
  },
  {
   "cell_type": "code",
   "execution_count": 14,
   "id": "00fdc28c",
   "metadata": {},
   "outputs": [
    {
     "name": "stdout",
     "output_type": "stream",
     "text": [
      "array:\n",
      "[[1 1 1 1 1]\n",
      " [1 0 0 0 1]\n",
      " [1 0 0 0 1]\n",
      " [1 0 0 0 1]\n",
      " [1 1 1 1 1]]\n"
     ]
    }
   ],
   "source": [
    "import numpy as np\n",
    "rows, cols = 5, 5\n",
    "array = np.zeros((rows, cols))\n",
    "array[0, :] = 1  \n",
    "array[-1, :] = 1 \n",
    "array[:, 0] = 1  \n",
    "array[:, -1] = 1 \n",
    "print(\"array:\")\n",
    "print(array.astype(int))"
   ]
  },
  {
   "cell_type": "markdown",
   "id": "94da568d",
   "metadata": {},
   "source": [
    "Problem 15: Write a NumPy program to append values to the end of an array.                      \n",
    "Expected Output:\n",
    "Original array:\n",
    "[10, 20, 30]\n",
    "After append values to the end of the array:\n",
    "[10 20 30 40 50 60 70 80 90]"
   ]
  },
  {
   "cell_type": "code",
   "execution_count": 15,
   "id": "11d2ce98",
   "metadata": {},
   "outputs": [
    {
     "name": "stdout",
     "output_type": "stream",
     "text": [
      "[10 20 30 40 50 60 70 80 90]\n"
     ]
    }
   ],
   "source": [
    "arr=np.array([10,20,30])\n",
    "arr2=np.array([40,50,60,70,80,90])\n",
    "arr=np.append(arr,arr2)\n",
    "print(arr)"
   ]
  },
  {
   "cell_type": "code",
   "execution_count": null,
   "id": "16b64ac3",
   "metadata": {},
   "outputs": [],
   "source": []
  }
 ],
 "metadata": {
  "kernelspec": {
   "display_name": "Python 3 (ipykernel)",
   "language": "python",
   "name": "python3"
  },
  "language_info": {
   "codemirror_mode": {
    "name": "ipython",
    "version": 3
   },
   "file_extension": ".py",
   "mimetype": "text/x-python",
   "name": "python",
   "nbconvert_exporter": "python",
   "pygments_lexer": "ipython3",
   "version": "3.11.4"
  }
 },
 "nbformat": 4,
 "nbformat_minor": 5
}
